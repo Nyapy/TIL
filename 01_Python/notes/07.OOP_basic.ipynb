{
 "cells": [
  {
   "cell_type": "code",
   "execution_count": null,
   "metadata": {},
   "outputs": [],
   "source": [
    "from IPython.display import IFrame"
   ]
  },
  {
   "cell_type": "markdown",
   "metadata": {},
   "source": [
    "# OOP with python\n",
    "\n",
    "## 시작하기전에\n",
    "\n",
    "<wikipedia - 객체지향 프로그래밍> \n",
    ">\n",
    "> 객체 지향 프로그래밍(영어: Object-Oriented Programming, OOP)은 컴퓨터 프로그래밍의 패러다임의 하나이다. 객체 지향 프로그래밍은 컴퓨터 프로그램을 명령어의 목록으로 보는 시각에서 벗어나 여러 개의 독립된 단위, 즉 \"객체\"들의 모임으로 파악하고자 하는 것이다. 각각의 객체는 메시지를 주고받고, 데이터를 처리할 수 있다.\n",
    ">\n",
    "> 명령형 프로그래밍인 절차지향 프로그래밍에서 발전된 형태를 나타내며, 기본 구성요소는 다음과 같다.\n",
    "\n",
    "* 클래스(Class) \n",
    "    - 같은 종류(또는 문제 해결을 위한)의 집단에 속하는 **속성(attribute)**과 **행위(behavior)**를 정의한 것으로 객체지향 프로그램의 기본적인 사용자 정의 데이터형(user define data type)이라고 할 수 있다\n",
    "    - 클래스는 프로그래머가 아니지만 해결해야 할 문제가 속하는 영역에 종사하는 사람이라면 사용할 수 있고, 다른 클래스 또는 외부 요소와 독립적으로 디자인하여야 한다.\n",
    "\n",
    "\n",
    "* 인스턴스(instance) \n",
    "    - 클래스의 인스턴스/객체(실제로 메모리상에 할당된 것)이다. \n",
    "    - 객체는 자신 고유의 속성(attribute)을 가지며 클래스에서 정의한 행위(behavior)를 수행할 수 있다. \n",
    "    - 객체의 행위는 클래스에 정의된 행위에 대한 정의(메서드)를 공유함으로써 메모리를 경제적으로 사용한다.\n",
    "\n",
    "\n",
    "* 속성(attribute) \n",
    "    - 클래스/인스턴스 가 가지고 있는 속성(값)\n",
    "\n",
    "\n",
    "* 메서드(Method) \n",
    "    - 클래스/인스턴스 가 할 수 있는 행위(함수)"
   ]
  },
  {
   "cell_type": "markdown",
   "metadata": {},
   "source": [
    "\n",
    "\n",
    "| class / type | instance                 | attributes       | methods                                |\n",
    "| ------------ | ------------------------ | ---------------- | -------------------------------------- |\n",
    "| `str`        | `''`, `'hello'`, `'123'` |       _          | `.capitalize()`, `.join()`, `.split()` |\n",
    "| `list`       | `[]`, `['a', 'b']`       |       _          | `.append()`, `reverse()`, `sort()`     |\n",
    "| `dict`       | `{}`, `{'key': 'value'}` |       _          | `.keys()`, `.values()`, `.items().`    |\n",
    "| `int`        | `0`, `1`, `2`            |       -          |                                        |"
   ]
  },
  {
   "cell_type": "code",
   "execution_count": null,
   "metadata": {},
   "outputs": [],
   "source": [
    "# 복소수를 하나 만들어보고, 타입을 출력해봅시다."
   ]
  },
  {
   "cell_type": "code",
   "execution_count": null,
   "metadata": {},
   "outputs": [],
   "source": []
  },
  {
   "cell_type": "code",
   "execution_count": null,
   "metadata": {},
   "outputs": [],
   "source": [
    "img_number = 3+ 4j\n",
    "print(type(img_number))"
   ]
  },
  {
   "cell_type": "markdown",
   "metadata": {},
   "source": [
    "> 위에서 말한 속성(값)과 행위(메서드)를 명확히 구분해 봅시다\n",
    "\n",
    "* `complex` class의 객체들의 속성들을 확인해 봅시다."
   ]
  },
  {
   "cell_type": "code",
   "execution_count": null,
   "metadata": {},
   "outputs": [],
   "source": [
    "# 허수부랑 실수부를 함께 출력해봅시다. complex 객체의 실수 속성(attribute)과 허수 속성(attribute)이라고도 표현 가능합니다."
   ]
  },
  {
   "cell_type": "code",
   "execution_count": null,
   "metadata": {},
   "outputs": [],
   "source": [
    "print(img_number.real)\n",
    "print(img_number.imag)"
   ]
  },
  {
   "cell_type": "markdown",
   "metadata": {},
   "source": [
    "* `list` class의 객체들이 할 수 있는 행위(메서드)들을 확인해 봅시다."
   ]
  },
  {
   "cell_type": "code",
   "execution_count": null,
   "metadata": {},
   "outputs": [],
   "source": [
    "# 리스트를 하나 만들고 정렬해봅시다. list 객체의 메서드 실행이라고도 표현 가능합니다."
   ]
  },
  {
   "cell_type": "code",
   "execution_count": null,
   "metadata": {},
   "outputs": [],
   "source": [
    "my_list = [3, 2, 1]\n",
    "print(type(my_list))\n",
    "print(my_list)\n",
    "my_list.sort()\n",
    "print(my_list)"
   ]
  },
  {
   "cell_type": "code",
   "execution_count": null,
   "metadata": {},
   "outputs": [],
   "source": [
    "# list class 의 객체들이 할 수 있는 것들을 알아봅시다. (list 객체가 가지고 있는 모든 속성과 메서드를 보여줍니다.)"
   ]
  },
  {
   "cell_type": "code",
   "execution_count": 9,
   "metadata": {},
   "outputs": [
    {
     "name": "stdout",
     "output_type": "stream",
     "text": [
      "['__add__', '__class__', '__contains__', '__delattr__', '__delitem__', '__dir__', '__doc__', '__eq__', '__format__', '__ge__', '__getattribute__', '__getitem__', '__gt__', '__hash__', '__iadd__', '__imul__', '__init__', '__init_subclass__', '__iter__', '__le__', '__len__', '__lt__', '__mul__', '__ne__', '__new__', '__reduce__', '__reduce_ex__', '__repr__', '__reversed__', '__rmul__', '__setattr__', '__setitem__', '__sizeof__', '__str__', '__subclasshook__', 'append', 'clear', 'copy', 'count', 'extend', 'index', 'insert', 'pop', 'remove', 'reverse', 'sort']\n"
     ]
    }
   ],
   "source": [
    "print(dir(list))"
   ]
  },
  {
   "cell_type": "markdown",
   "metadata": {},
   "source": [
    "## 실습 (without OOP)\n",
    "\n",
    "> 프로그래밍으로, 현재 나의 핸드폰을 코드로 옮겨봅시다.\n",
    "\n",
    "**정답은 없습니다. 자유롭게 구현해 봅시다.**\n",
    "\n",
    "* 핸드폰은 다음과 같은 속성(값)을 가지고 있습니다.\n",
    "    * 전원(`power`) - `bool`\n",
    "    * 내 전화번호(`number`) - `str`\n",
    "    * 전화번호부(`book`) - `dict`\n",
    "    * 모델명(`model`) - `str`\n",
    "\n",
    "* 핸드폰은 다음과 같은 다음과 같은 행동(함수)을 할 수 있습니다.\n",
    "    * 켜기(`on()`)\n",
    "    * 끄기(`off()`)\n",
    "    * 내 전화번호 설정하기(`set_my_number(number)`)\n",
    "    * 전화걸기(`call(number)`)\n",
    "    * 전화번호부에 번호 저장하기(`save(name, number)`)"
   ]
  },
  {
   "cell_type": "code",
   "execution_count": null,
   "metadata": {},
   "outputs": [],
   "source": [
    "# 아래에 자유롭게 코드를 작성해보세요."
   ]
  },
  {
   "cell_type": "code",
   "execution_count": null,
   "metadata": {},
   "outputs": [],
   "source": [
    "power = bool\n",
    "power = False\n",
    "number = ''\n",
    "book = {'policeoffice' : '112' , 'firestation' : '119', '강민구' : '01097951175' }\n",
    "model = 'SAMSUNG GALUXY S7'\n",
    "\n",
    "# 핸드폰이 할 수 있는 행동\n",
    "def on():\n",
    "    if not power:\n",
    "        power = True #전원을 키자\n",
    "        return power\n",
    "\n",
    "def off():\n",
    "    if power:\n",
    "        power = False\n",
    "        return power\n",
    "def set_my_umber(number):\n",
    "    if power :\n",
    "        number = number #내 전화번호 설정\n",
    "\n",
    "def call(number):\n",
    "    if power : #핸드폰 전원이 켜졌으면\n",
    "        if number in book:\n",
    "            print(f'{book[number]}에게 전화 중입니다.')\n",
    "        else :\n",
    "            print(f'{number}에게 전화 중입니다.') #그냥 그 번호로 전화\n",
    "            \n",
    "def save(name, number) :\n",
    "    if power : #전원이 켜져있으면\n",
    "        book[name] = number\n",
    "    return book"
   ]
  },
  {
   "cell_type": "code",
   "execution_count": null,
   "metadata": {},
   "outputs": [],
   "source": [
    "# 핸드폰을 켜지 않고 이런저런 일을 해 봅시다. 긴급 상황입니다. 112에 전화를 하죠."
   ]
  },
  {
   "cell_type": "code",
   "execution_count": null,
   "metadata": {},
   "outputs": [],
   "source": [
    "call('112')"
   ]
  },
  {
   "cell_type": "code",
   "execution_count": null,
   "metadata": {},
   "outputs": [],
   "source": [
    "# 전화가 안걸려요. 생각해보니.. 핸드폰을 안켰어요. 핸드폰을 켜봅시다. "
   ]
  },
  {
   "cell_type": "code",
   "execution_count": null,
   "metadata": {},
   "outputs": [],
   "source": [
    "on()"
   ]
  },
  {
   "cell_type": "code",
   "execution_count": null,
   "metadata": {},
   "outputs": [],
   "source": [
    "# 켜지지 않고 에러가 납니다.. 어째서 그런 걸까요?"
   ]
  },
  {
   "cell_type": "code",
   "execution_count": null,
   "metadata": {},
   "outputs": [],
   "source": [
    "# namespace! 함수 바깥의 power(global) 와 함수 안의 power(lexical) 는 다른 이름공간에 있습니다. \n",
    "# 즉, if not power에서 power가 함수 내부에 정의된 적이 없는데 평가를 하려고 하죠!!\n",
    "# 전원을 켜야합니다!!"
   ]
  },
  {
   "cell_type": "code",
   "execution_count": null,
   "metadata": {},
   "outputs": [],
   "source": [
    "power = True"
   ]
  },
  {
   "cell_type": "code",
   "execution_count": null,
   "metadata": {},
   "outputs": [],
   "source": [
    "# save 를 통해 번호를 저장해 봅시다."
   ]
  },
  {
   "cell_type": "code",
   "execution_count": null,
   "metadata": {},
   "outputs": [],
   "source": [
    "save('마스터', '01034610277')"
   ]
  },
  {
   "cell_type": "code",
   "execution_count": null,
   "metadata": {},
   "outputs": [],
   "source": [
    "# def save(a= input(),b=input()):\n",
    "#     return book.update(a = b)\n",
    "# save()\n",
    "# print(book)"
   ]
  },
  {
   "cell_type": "code",
   "execution_count": null,
   "metadata": {},
   "outputs": [],
   "source": [
    "# call 을 통해 전화를 걸어봅시다."
   ]
  },
  {
   "cell_type": "code",
   "execution_count": null,
   "metadata": {},
   "outputs": [],
   "source": [
    "call('0101342414')\n",
    "call('마스터')"
   ]
  },
  {
   "cell_type": "markdown",
   "metadata": {},
   "source": [
    "### 문제점\n",
    "\n",
    "현재 코드로 구현한 핸드폰에서 잘못되었다고 느껴지거나 문제가 발생할 만한 요소들을 이야기 해 봅시다. \n",
    "\n",
    "기존의 방식대로 다른 사람의 핸드폰을 구현해야 한다면? 그 수가 엄청 많다면?? 새 파일(모듈)?"
   ]
  },
  {
   "cell_type": "markdown",
   "metadata": {},
   "source": [
    "# 클래스 및 인스턴스"
   ]
  },
  {
   "cell_type": "markdown",
   "metadata": {},
   "source": [
    "## 클래스 정의하기 (클래스 객체 생성하기)\n",
    "\n",
    "```python\n",
    "class ClassName:\n",
    "    \n",
    "```\n",
    "\n",
    "* 선언과 동시에 클래스 객체가 생성됨.\n",
    "\n",
    "* 또한, 선언된 공간은 지역 스코프(local scope)로 사용된다.\n",
    "    - 히키코모리 막내 동생의 방\n",
    "\n",
    "* 정의된 어트리뷰트 중 변수는 멤버 변수로 불리운다.\n",
    "    - 멤버 변수: 클래스 변수 / 인스턴스 변수 통칭\n",
    "\n",
    "* 정의된 함수(`def`)는 메서드로 불리운다.\n",
    "    - 모든 메서드는 함수이다.(O)\n",
    "    - 모든 함수는 메서드이다.(x)"
   ]
  },
  {
   "cell_type": "code",
   "execution_count": null,
   "metadata": {},
   "outputs": [],
   "source": [
    "# Class를 만들어봅시다."
   ]
  },
  {
   "cell_type": "code",
   "execution_count": null,
   "metadata": {},
   "outputs": [],
   "source": [
    "class Testclass :\n",
    "    '''\n",
    "    This is testclss\n",
    "    '''\n",
    "    name = 'Testclass'"
   ]
  },
  {
   "cell_type": "code",
   "execution_count": null,
   "metadata": {},
   "outputs": [],
   "source": [
    "print(Testclass)"
   ]
  },
  {
   "cell_type": "markdown",
   "metadata": {},
   "source": [
    "## 인스턴스 생성하기\n",
    "\n",
    "* 인스턴스 객체는 `ClassName()`을 호출함으로써 선언된다.\n",
    "    - 클래스를 호출하는 것은 함수를 호출하는 것처럼 `클래스이름()`으로 한다.\n",
    "* 인스턴스 객체와 클래스 객체는 서로 다른 이름 공간을 가지고 있다.\n",
    "    - 클래스 변수와 인스턴스 변수는 다른 이름 공간(Namespace)를 갖습니다.\n",
    "* **인스턴스 => 클래스 => 전역 순으로 탐색을 한다.**"
   ]
  },
  {
   "cell_type": "code",
   "execution_count": null,
   "metadata": {},
   "outputs": [],
   "source": [
    "# TestClass 의 인스턴스를 만들어 봅시다."
   ]
  },
  {
   "cell_type": "code",
   "execution_count": null,
   "metadata": {},
   "outputs": [],
   "source": [
    "tc = Testclass()\n",
    "print(tc)\n",
    "print(tc.__doc__)"
   ]
  },
  {
   "cell_type": "code",
   "execution_count": null,
   "metadata": {},
   "outputs": [],
   "source": []
  },
  {
   "cell_type": "code",
   "execution_count": null,
   "metadata": {},
   "outputs": [],
   "source": [
    "# namespace..?"
   ]
  },
  {
   "cell_type": "code",
   "execution_count": null,
   "metadata": {},
   "outputs": [],
   "source": [
    "print(tc.name)\n",
    "tc.name = 'tc'\n",
    "print(tc.name)"
   ]
  },
  {
   "cell_type": "code",
   "execution_count": null,
   "metadata": {},
   "outputs": [],
   "source": [
    "# 제일 처음에 만들었던 핸드폰 코드를 Phone 클래스로 바꿔서 작성해봅시다."
   ]
  },
  {
   "cell_type": "code",
   "execution_count": null,
   "metadata": {},
   "outputs": [],
   "source": [
    "class Phone:\n",
    "    power = False\n",
    "    number = ''\n",
    "    book = {}\n",
    "    model = 'Samsung Galaxy s7'\n",
    "    \n",
    "    def on(self):\n",
    "        if not self.power:\n",
    "            self.power = True\n",
    "            print('------------')\n",
    "            print(f'{self.model}')\n",
    "            print('------------')\n",
    "            \n",
    "    def off(self):\n",
    "        if self.power:\n",
    "            self.power = False\n",
    "            print('폰 꺼짐')"
   ]
  },
  {
   "cell_type": "markdown",
   "metadata": {},
   "source": [
    "* 선언시 `self`는 반드시 작성해주세요! 아래에서 다시 다룹니다."
   ]
  },
  {
   "cell_type": "code",
   "execution_count": null,
   "metadata": {},
   "outputs": [],
   "source": [
    "# Phone 클래스로부터 인스턴스 객체를 생성하고 출력해봅시다."
   ]
  },
  {
   "cell_type": "code",
   "execution_count": null,
   "metadata": {},
   "outputs": [],
   "source": [
    "p = Phone() #인스턴스(p) 객체 생성\n",
    "print(p.model)"
   ]
  },
  {
   "cell_type": "code",
   "execution_count": null,
   "metadata": {},
   "outputs": [],
   "source": [
    "# 클래스 Phone의 인스턴스 'justin_phone' 를 만들어봅시다. "
   ]
  },
  {
   "cell_type": "code",
   "execution_count": null,
   "metadata": {},
   "outputs": [],
   "source": [
    "nyapy_phone = Phone()"
   ]
  },
  {
   "cell_type": "code",
   "execution_count": null,
   "metadata": {},
   "outputs": [],
   "source": [
    "# 켜져 있나 확인해 봅시다."
   ]
  },
  {
   "cell_type": "code",
   "execution_count": null,
   "metadata": {},
   "outputs": [],
   "source": [
    "print(nyapy_phone.power)"
   ]
  },
  {
   "cell_type": "code",
   "execution_count": null,
   "metadata": {},
   "outputs": [],
   "source": [
    "# 새 폰은 꺼져있으니 켜 봅시다."
   ]
  },
  {
   "cell_type": "code",
   "execution_count": null,
   "metadata": {},
   "outputs": [],
   "source": [
    "nyapy_phone.on()"
   ]
  },
  {
   "cell_type": "code",
   "execution_count": null,
   "metadata": {},
   "outputs": [],
   "source": [
    "# 다시 전원 상태를 확인해 봅시다."
   ]
  },
  {
   "cell_type": "code",
   "execution_count": null,
   "metadata": {},
   "outputs": [],
   "source": [
    "nyapy_phone.power"
   ]
  },
  {
   "cell_type": "code",
   "execution_count": null,
   "metadata": {},
   "outputs": [],
   "source": [
    "# 폰의 모델명을 확인해 봅시다."
   ]
  },
  {
   "cell_type": "code",
   "execution_count": null,
   "metadata": {},
   "outputs": [],
   "source": [
    "nyapy_phone.model"
   ]
  },
  {
   "cell_type": "code",
   "execution_count": null,
   "metadata": {},
   "outputs": [],
   "source": [
    "# 모델을 바꿔 봅시다."
   ]
  },
  {
   "cell_type": "code",
   "execution_count": null,
   "metadata": {},
   "outputs": [],
   "source": [
    "nyapy_phone.model = 'Samsung Galuxy S15'"
   ]
  },
  {
   "cell_type": "code",
   "execution_count": null,
   "metadata": {},
   "outputs": [],
   "source": [
    "# 폰 모델을 다시 확인해 봅시다."
   ]
  },
  {
   "cell_type": "code",
   "execution_count": null,
   "metadata": {},
   "outputs": [],
   "source": [
    "nyapy_phone.model"
   ]
  },
  {
   "cell_type": "code",
   "execution_count": null,
   "metadata": {},
   "outputs": [],
   "source": [
    "# 폰을 껐다 켜 봅시다."
   ]
  },
  {
   "cell_type": "code",
   "execution_count": null,
   "metadata": {},
   "outputs": [],
   "source": [
    "nyapy_phone.off()\n",
    "nyapy_phone.on()"
   ]
  },
  {
   "cell_type": "code",
   "execution_count": null,
   "metadata": {},
   "outputs": [],
   "source": [
    "# justin_phone 이 Phone 클래스의 인스턴스인지 확인해 봅시다."
   ]
  },
  {
   "cell_type": "code",
   "execution_count": null,
   "metadata": {},
   "outputs": [],
   "source": [
    "isinstance(nyapy_phone, Phone)"
   ]
  },
  {
   "cell_type": "code",
   "execution_count": null,
   "metadata": {},
   "outputs": [],
   "source": [
    "# 같은 질문이지만, 다르게 물어 봅시다."
   ]
  },
  {
   "cell_type": "code",
   "execution_count": null,
   "metadata": {},
   "outputs": [],
   "source": [
    "type(nyapy_phone) == Phone"
   ]
  },
  {
   "cell_type": "code",
   "execution_count": null,
   "metadata": {},
   "outputs": [],
   "source": [
    "# type을 확인해봅시다."
   ]
  },
  {
   "cell_type": "code",
   "execution_count": null,
   "metadata": {},
   "outputs": [],
   "source": [
    "type(nyapy_phone)"
   ]
  },
  {
   "cell_type": "code",
   "execution_count": null,
   "metadata": {},
   "outputs": [],
   "source": [
    "# justin_phone 을 출력해 봅시다."
   ]
  },
  {
   "cell_type": "code",
   "execution_count": null,
   "metadata": {},
   "outputs": [],
   "source": [
    "nyapy_phone"
   ]
  },
  {
   "cell_type": "code",
   "execution_count": null,
   "metadata": {},
   "outputs": [],
   "source": [
    "# justin_phone 을 다르게 볼까요?"
   ]
  },
  {
   "cell_type": "code",
   "execution_count": null,
   "metadata": {},
   "outputs": [],
   "source": [
    "# python 출력의 비밀 __repr__과 __str__\n",
    "# 특정 객체를 print() 할때 보이는 값과 \n",
    "# 그냥 객체 자체를 보여주는 값도 사실 모두 우리가 직접 바꿀 수 있습니다."
   ]
  },
  {
   "cell_type": "code",
   "execution_count": null,
   "metadata": {},
   "outputs": [],
   "source": [
    "# 만들어 볼까요?"
   ]
  },
  {
   "cell_type": "code",
   "execution_count": null,
   "metadata": {},
   "outputs": [],
   "source": [
    "class Phone:\n",
    "    power = False\n",
    "    book = {}\n",
    "    model = 'Samsung Galaxy S7'\n",
    "    \n",
    "    def on(self):\n",
    "        if not self.power:\n",
    "            self.power = True\n",
    "            print('------------')\n",
    "            print(f'{self.model}')\n",
    "            print('------------')\n",
    "            \n",
    "    def off(self):\n",
    "        if self.power:\n",
    "            self.power = False\n",
    "            print('폰 꺼짐')\n",
    "            \n",
    "    def __str__(self):\n",
    "        return 'print 안에 넣으면 이렇게 나와요'\n",
    "    \n",
    "    def __repr__(self):\n",
    "        return '객체만 놔두면 이렇게 나오지요' #print 안하고 해당 객체를 그냥 실행"
   ]
  },
  {
   "cell_type": "code",
   "execution_count": null,
   "metadata": {},
   "outputs": [],
   "source": [
    "p = Phone()\n",
    "p # 객체 자체를 출력하는 경우 -> __repr__ 호출\n",
    "print(p) #print 자체를 출력하는 경우 -> __str__호출(사람이 보기 편하게 출력)"
   ]
  },
  {
   "cell_type": "code",
   "execution_count": null,
   "metadata": {},
   "outputs": [],
   "source": []
  },
  {
   "cell_type": "markdown",
   "metadata": {},
   "source": [
    "## MyList 만들기\n",
    "\n",
    "> 이제 배운 것을 활용하여 나만의 리스트 객체를 만들 수 있습니다. \n",
    ">\n",
    "> `class MyList:`\n",
    ">\n",
    "\n",
    "```\n",
    "* 클래스 변수\n",
    "data : 비어 있는 리스트\n",
    "\n",
    "* 메서드 \n",
    "`append()` : 값을 받아 data 에 추가합니다. 리턴 값은 없습니다.\n",
    "`pop()` : 마지막에 있는 값을 삭제하고, 해당 값을 리턴합니다.\n",
    "`reverse()` : 제자리에서 뒤집고 리턴 값은 없습니다.\n",
    "`count()` : data의 개수를 리턴합니다.\n",
    "`clear()` : 값을 모두 삭제합니다. 리턴값은 없습니다.\n",
    "\n",
    "`__repr__()` : ex) '내 리스트에는 [1, 2, 3] 이 담겨있다.'\n",
    "```"
   ]
  },
  {
   "cell_type": "code",
   "execution_count": null,
   "metadata": {},
   "outputs": [],
   "source": [
    "# 아래에 코드를 작성해주세요."
   ]
  },
  {
   "cell_type": "code",
   "execution_count": null,
   "metadata": {},
   "outputs": [],
   "source": [
    "class MyList:\n",
    "    data = []\n",
    "    \n",
    "    def append(self, a) :\n",
    "        self.data += [a]\n",
    "    \n",
    "    def pop(self):\n",
    "        p = self.data[-1]\n",
    "        self.data = self.data[:-1]\n",
    "        return p\n",
    "    \n",
    "    def reverse(self):\n",
    "        self.data = self.data[::-1]\n",
    "        \n",
    "    def count(self):\n",
    "        count = 0\n",
    "        return len(self.data)\n",
    "    \n",
    "    def clear(self):\n",
    "        self.data = []\n",
    "    \n",
    "    def __repr__(self):\n",
    "        return f'내 리스트에는 {self.data}가 담겨있다.'\n",
    "\n",
    "        "
   ]
  },
  {
   "cell_type": "code",
   "execution_count": 30,
   "metadata": {},
   "outputs": [
    {
     "data": {
      "text/plain": [
       "내 리스트에는 []가 담겨있다."
      ]
     },
     "execution_count": 30,
     "metadata": {},
     "output_type": "execute_result"
    }
   ],
   "source": [
    "ml = MyList()\n",
    "ml"
   ]
  },
  {
   "cell_type": "code",
   "execution_count": 31,
   "metadata": {},
   "outputs": [],
   "source": [
    "#m(인스턴스)의 이름공간에는 아직 data 속성이 없음\n",
    "ml.append(1)"
   ]
  },
  {
   "cell_type": "code",
   "execution_count": 33,
   "metadata": {},
   "outputs": [
    {
     "data": {
      "text/plain": [
       "내 리스트에는 [1, 2]가 담겨있다."
      ]
     },
     "execution_count": 33,
     "metadata": {},
     "output_type": "execute_result"
    }
   ],
   "source": [
    "ml"
   ]
  },
  {
   "cell_type": "code",
   "execution_count": 32,
   "metadata": {},
   "outputs": [
    {
     "data": {
      "text/plain": [
       "내 리스트에는 [1, 2]가 담겨있다."
      ]
     },
     "execution_count": 32,
     "metadata": {},
     "output_type": "execute_result"
    }
   ],
   "source": [
    "ml.append(2)\n",
    "ml"
   ]
  },
  {
   "cell_type": "code",
   "execution_count": null,
   "metadata": {},
   "outputs": [],
   "source": [
    "ml.append(3)"
   ]
  },
  {
   "cell_type": "code",
   "execution_count": 29,
   "metadata": {},
   "outputs": [
    {
     "ename": "NameError",
     "evalue": "name 'ml' is not defined",
     "output_type": "error",
     "traceback": [
      "\u001b[1;31m---------------------------------------------------------------------------\u001b[0m",
      "\u001b[1;31mNameError\u001b[0m                                 Traceback (most recent call last)",
      "\u001b[1;32m<ipython-input-29-c3b2fae93b85>\u001b[0m in \u001b[0;36m<module>\u001b[1;34m\u001b[0m\n\u001b[1;32m----> 1\u001b[1;33m \u001b[0mml\u001b[0m\u001b[1;33m\u001b[0m\u001b[1;33m\u001b[0m\u001b[0m\n\u001b[0m",
      "\u001b[1;31mNameError\u001b[0m: name 'ml' is not defined"
     ]
    }
   ],
   "source": [
    "ml"
   ]
  },
  {
   "cell_type": "code",
   "execution_count": null,
   "metadata": {},
   "outputs": [],
   "source": [
    "ml.reverse()\n",
    "ml"
   ]
  },
  {
   "cell_type": "code",
   "execution_count": null,
   "metadata": {},
   "outputs": [],
   "source": [
    "print(ml.pop())\n",
    "ml"
   ]
  },
  {
   "cell_type": "code",
   "execution_count": null,
   "metadata": {},
   "outputs": [],
   "source": [
    "ml.count()"
   ]
  },
  {
   "cell_type": "code",
   "execution_count": null,
   "metadata": {},
   "outputs": [],
   "source": [
    "ml.clear()\n",
    "ml"
   ]
  },
  {
   "cell_type": "code",
   "execution_count": null,
   "metadata": {},
   "outputs": [],
   "source": [
    "# 확인해 봅시다. 각 해당 셀을 두번 이상 실행하면 이상하게 동작합니다. Python Tutor 에서 확인해 봅시다.\n",
    "# (모든 객체의 data 가 같은 리스트를 참조합니다.)"
   ]
  },
  {
   "cell_type": "markdown",
   "metadata": {},
   "source": [
    "## 용어 정리\n",
    "\n",
    "```python\n",
    "class Person:                     #=> 클래스 정의(선언) : 클래스 객체 생성\n",
    "    name = 'unknown'              #=> 멤버 변수(data attribute)\n",
    "    def greeting(self):           #=> 멤버 메서드(메서드)\n",
    "        return f'{self.name}' \n",
    "```\n",
    "    \n",
    "    \n",
    "```python\n",
    "richard = Person()      # 인스턴스 객체 생성\n",
    "tim = Person()          # 인스턴스 객체 생성\n",
    "tim.name                # 인스턴스의 변수(속성) 호출\n",
    "tim.greeting()          # 인스턴스로 메서드 호출\n",
    "```\n",
    "\n",
    "- 참고\n",
    "    - 멤버 변수(클래스 / 인스턴스의 멤버를 의미)\n",
    "        - 클래스 변수: Class Variable shared by all instances\n",
    "        - 인스턴스 변수: Instance variable unique each instance"
   ]
  },
  {
   "cell_type": "code",
   "execution_count": null,
   "metadata": {},
   "outputs": [],
   "source": [
    "# Person을 만들어봅시다."
   ]
  },
  {
   "cell_type": "code",
   "execution_count": null,
   "metadata": {},
   "outputs": [],
   "source": [
    "class Person:\n",
    "    name = 'unknown'# 클래스 변수\n",
    "    \n",
    "    def greeting(self) : #(멤버) 메서드\n",
    "        return f'hi, {self.name}'"
   ]
  },
  {
   "cell_type": "code",
   "execution_count": null,
   "metadata": {},
   "outputs": [],
   "source": [
    "p1 = Person() #p1 인스턴스 생성\n",
    "p1.greeting() #p1(인스턴스) -> 메서드 호출"
   ]
  },
  {
   "cell_type": "code",
   "execution_count": null,
   "metadata": {},
   "outputs": [],
   "source": [
    "# 클래스와 인스턴스간의 관계를 확인해 봅시다."
   ]
  },
  {
   "cell_type": "code",
   "execution_count": null,
   "metadata": {},
   "outputs": [],
   "source": [
    "isinstance(p1, Person)"
   ]
  },
  {
   "cell_type": "markdown",
   "metadata": {},
   "source": [
    "##  `self` : 인스턴스 객체 자기자신\n",
    "\n",
    "* C++ 혹은 자바에서의 this 키워드와 동일함. \n",
    "\n",
    "* 특별한 상황을 제외하고는 **무조건 메서드에서 `self`를 첫번째 인자로 설정한다.**\n",
    "\n",
    "* 메서드는 인스턴스 객체가 함수의 첫번째 인자로 전달되도록 되어있다.\n",
    "    - 인스턴스로 메서드를 호출할 때 인스턴스 자기 자신을 메서드의 첫번째 인자로 넘긴다."
   ]
  },
  {
   "cell_type": "code",
   "execution_count": null,
   "metadata": {},
   "outputs": [],
   "source": [
    "# p1 의 이름을 자기 이름으로 바꾸고 다시 인사해 봅시다."
   ]
  },
  {
   "cell_type": "code",
   "execution_count": null,
   "metadata": {},
   "outputs": [],
   "source": [
    "p1.name = 'ssafy Lee' # p1(인스턴스)의 이름공간의 변수(속성)에 'ssafy Lee' 생성 \n",
    "p1.greeting()"
   ]
  },
  {
   "cell_type": "markdown",
   "metadata": {},
   "source": [
    "### 아까부터 궁금했던, 메서드 1번 인자 self 는 어디에 있는걸까요?\n",
    "### 실제로 이렇게 쓰지는 않지만 어떤 의미로는 이 코드가 더 직관적일 거에요."
   ]
  },
  {
   "cell_type": "code",
   "execution_count": null,
   "metadata": {},
   "outputs": [],
   "source": [
    "Person.greeting(p1)"
   ]
  },
  {
   "cell_type": "markdown",
   "metadata": {},
   "source": [
    "## 클래스-인스턴스간의 이름공간\n",
    "\n",
    "* 클래스를 정의하면, 클래스 객체가 생성되고 해당되는 이름 공간이 생성된다. \n",
    "\n",
    "* 인스턴스를 만들게 되면, 인스턴스 객체가 생성되고 해당되는 이름 공간이 생성된다. \n",
    "\n",
    "* 인스턴스의 어트리뷰트(변수)가 변경되면, 변경된 데이터를 인스턴스 객체 이름 공간에 저장한다.\n",
    "\n",
    "* 즉, 인스턴스에서 특정한 어트리뷰트에 접근하게 되면 인스턴스 => 클래스 순으로 탐색을 한다.\n",
    "    - 인스턴스에서 못찾으면 클래스에서 찾는다!"
   ]
  },
  {
   "cell_type": "code",
   "execution_count": null,
   "metadata": {},
   "outputs": [],
   "source": [
    "# 클래스 선언코드에서 메서드를 정의할 때, 왜 self 를 꼭 써준걸까요?"
   ]
  },
  {
   "cell_type": "code",
   "execution_count": null,
   "metadata": {},
   "outputs": [],
   "source": [
    "class Person:\n",
    "    name = 'unknown'\n",
    "    \n",
    "    def greeting(self):\n",
    "        return f'My name is {name}'"
   ]
  },
  {
   "cell_type": "code",
   "execution_count": null,
   "metadata": {},
   "outputs": [],
   "source": [
    "# 아래에서 확인해 봅시다."
   ]
  },
  {
   "cell_type": "code",
   "execution_count": null,
   "metadata": {},
   "outputs": [],
   "source": [
    "p2 = Person()\n",
    "p2.greeting()"
   ]
  },
  {
   "cell_type": "code",
   "execution_count": null,
   "metadata": {},
   "outputs": [],
   "source": [
    "# 함수 scope 를 다시한번 짚고 넘어갑시다."
   ]
  },
  {
   "cell_type": "code",
   "execution_count": null,
   "metadata": {},
   "outputs": [],
   "source": [
    "p2.name # 인스턴스(p2) 본인 안에서 name이 없네? ->Class로 가봐야지!!"
   ]
  },
  {
   "cell_type": "code",
   "execution_count": null,
   "metadata": {},
   "outputs": [],
   "source": [
    "# 다시, 클래스 선언코드에서 메서드를 정의할 때, 왜 self 를 꼭 써준걸까요?"
   ]
  },
  {
   "cell_type": "code",
   "execution_count": null,
   "metadata": {},
   "outputs": [],
   "source": [
    "class Person:\n",
    "    name = 'unknown'\n",
    "    \n",
    "    def greeting(self):\n",
    "        return f'My name is {self.name}'"
   ]
  },
  {
   "cell_type": "code",
   "execution_count": null,
   "metadata": {},
   "outputs": [],
   "source": [
    "# 아래에서 확인해 봅시다."
   ]
  },
  {
   "cell_type": "code",
   "execution_count": null,
   "metadata": {},
   "outputs": [],
   "source": [
    "p2 = Person()\n",
    "p2.greeting()"
   ]
  },
  {
   "cell_type": "code",
   "execution_count": null,
   "metadata": {},
   "outputs": [],
   "source": [
    "# 아래에서 p2 객체에게 이름을 지어 줍시다."
   ]
  },
  {
   "cell_type": "code",
   "execution_count": null,
   "metadata": {},
   "outputs": [],
   "source": [
    "p2.name = 'Jack'\n",
    "p2.name # 인스터스(p2) 내부에서 차즌ㄴ다 - > 있다!!"
   ]
  },
  {
   "cell_type": "markdown",
   "metadata": {
    "scrolled": true
   },
   "source": [
    "# python tutor 를 통해 확인해 봅시다.\n",
    "IFrame('http://bit.do/oop_instro_00', width='100%', height='500px')"
   ]
  },
  {
   "cell_type": "markdown",
   "metadata": {},
   "source": [
    "## 생성자 / 소멸자\n",
    "\n",
    "* 생성자는 인스턴스 객체가 생성될 때 호출되는 함수이며, 소멸자는 객체가 소멸되는 과정에서 호출되는 함수입니다.\n",
    "\n",
    "```python\n",
    "def __init__(self):\n",
    "    print('생성될 때 자동으로 호출되는 메서드입니다.')\n",
    "    \n",
    "def __del__(self):\n",
    "    print('소멸될 때 자동으로 호출되는 메서드입니다.')\n",
    "```\n",
    "\n",
    "```\n",
    "__someting__\n",
    "```\n",
    "\n",
    "위의 형식처럼 양쪽에 언더스코어가 있는 메서드를 `스페셜 메서드` 혹은 `매직 메서드`라고 불립니다."
   ]
  },
  {
   "cell_type": "code",
   "execution_count": null,
   "metadata": {},
   "outputs": [],
   "source": [
    "# 생성자와 소멸자를 만들어봅시다."
   ]
  },
  {
   "cell_type": "code",
   "execution_count": 6,
   "metadata": {},
   "outputs": [],
   "source": [
    "class Person:\n",
    "    def __init__(self):\n",
    "        print('응애')\n",
    "        \n",
    "    def __del__(self):\n",
    "        print('빠이')"
   ]
  },
  {
   "cell_type": "code",
   "execution_count": null,
   "metadata": {},
   "outputs": [],
   "source": [
    "# Person 클래스로부터 새로운 인스턴스 객체를 생성해 봅시다."
   ]
  },
  {
   "cell_type": "code",
   "execution_count": 7,
   "metadata": {},
   "outputs": [
    {
     "name": "stdout",
     "output_type": "stream",
     "text": [
      "응애\n"
     ]
    }
   ],
   "source": [
    "p3 = Person()"
   ]
  },
  {
   "cell_type": "code",
   "execution_count": null,
   "metadata": {},
   "outputs": [],
   "source": [
    "# 생성된 인스턴스 객체를 소멸시켜 봅시다."
   ]
  },
  {
   "cell_type": "code",
   "execution_count": 8,
   "metadata": {},
   "outputs": [
    {
     "name": "stdout",
     "output_type": "stream",
     "text": [
      "빠이\n"
     ]
    }
   ],
   "source": [
    "del p3"
   ]
  },
  {
   "cell_type": "code",
   "execution_count": null,
   "metadata": {},
   "outputs": [],
   "source": [
    "# 생성자 역시 메서드(함수)기 때문에 추가인자를 받을 수 있습니다."
   ]
  },
  {
   "cell_type": "code",
   "execution_count": 1,
   "metadata": {},
   "outputs": [],
   "source": [
    "class Person:\n",
    "    def __init__(self, name): #생성자 함수\n",
    "        self.name = name\n",
    "        print(f'응애! 나는 {self.name}')\n",
    "        \n",
    "    def __del__(self):        #소멸자 함수\n",
    "        print(f'{self.name}은(는) 떠난다... 안녕..')"
   ]
  },
  {
   "cell_type": "code",
   "execution_count": 3,
   "metadata": {},
   "outputs": [
    {
     "name": "stdout",
     "output_type": "stream",
     "text": [
      "응애! 나는 싸피\n",
      "ssafy은(는) 떠난다... 안녕..\n",
      "싸피\n",
      "-----------------------------------\n",
      "응애! 나는 ssafy\n",
      "싸피은(는) 떠난다... 안녕..\n",
      "ssafy\n"
     ]
    }
   ],
   "source": [
    "me = Person('싸피')\n",
    "print(me.name)\n",
    "print('-----------------------------------')\n",
    "\n",
    "me = Person('ssafy')\n",
    "print(me.name)"
   ]
  },
  {
   "cell_type": "code",
   "execution_count": null,
   "metadata": {},
   "outputs": [],
   "source": [
    "# 생성과 동시에 인스턴스 변수에 값을 할당합니다."
   ]
  },
  {
   "cell_type": "code",
   "execution_count": 5,
   "metadata": {},
   "outputs": [
    {
     "name": "stdout",
     "output_type": "stream",
     "text": [
      "응애! 나는 Justin\n",
      "Justin은(는) 떠난다... 안녕..\n"
     ]
    }
   ],
   "source": [
    "p1 = Person('Justin')\n",
    "\n",
    "del p1"
   ]
  },
  {
   "cell_type": "markdown",
   "metadata": {},
   "source": [
    "## 실습 (종합)\n",
    "\n",
    "> 사실 이전에 작성한 Mylist는 완벽하지 않았습니다. \n",
    ">\n",
    "> 한번 제대로 된 자료구조를 만들어보겠습니다. \n",
    ">\n",
    "> `Stack` 클래스를 간략하게 구현해봅시다.\n",
    "\n",
    "> [Stack](https://ko.wikipedia.org/wiki/%EC%8A%A4%ED%83%9D) : 스택은 LIFO(Last in First Out)으로 구조화된 자료구조를 뜻합니다.\n",
    "\n",
    "1. `empty()`: 스택이 비었다면 True을 주고, 그렇지 않다면 False가 된다.\n",
    "\n",
    "2. `top()`: 스택의 가장 마지막 데이터를 넘겨준다. 스택이 비었다면 None을 리턴한다.\n",
    "\n",
    "3. `pop()`: 스택의 가장 마지막 데이터의 값을 넘겨주고, 해당 데이터를 삭제한다. 스택이 비었다면 None을 리턴한다.\n",
    "\n",
    "4. `push()`: 스택의 가장 마지막 데이터 뒤에 값을 추가한다. 리턴 값은 없다.\n",
    "\n",
    "**다 작성했다면 __repr__ 을 통해 예쁘게 출력까지 해봅시다.**"
   ]
  },
  {
   "cell_type": "code",
   "execution_count": 11,
   "metadata": {},
   "outputs": [],
   "source": [
    "class MyList:\n",
    "    \n",
    "    def __init__(self):\n",
    "        self.data = []\n",
    "    \n",
    "    def append(self, a) :\n",
    "        self.data += [a]\n",
    "    \n",
    "    def pop(self):\n",
    "        p = self.data[-1]\n",
    "        self.data = self.data[:-1]\n",
    "        return p\n",
    "    \n",
    "    def reverse(self):\n",
    "        self.data = self.data[::-1]\n",
    "        \n",
    "    def count(self):\n",
    "        count = 0\n",
    "        return len(self.data)\n",
    "    \n",
    "    def clear(self):\n",
    "        self.data = []\n",
    "    \n",
    "    def __repr__(self):\n",
    "        return f'내 리스트에는 {self.data}가 담겨있다.'\n",
    "\n",
    "    def empty(self, a) :\n",
    "        "
   ]
  },
  {
   "cell_type": "code",
   "execution_count": 25,
   "metadata": {},
   "outputs": [],
   "source": [
    "class Stack:\n",
    "    \n",
    "    def __init__(self):\n",
    "        self.stack = []\n",
    "    \n",
    "    def empty(self) :\n",
    "        if self.stack == [] :\n",
    "            return True\n",
    "        else:\n",
    "            return False\n",
    "        \n",
    "    def top(self):\n",
    "        if self.stack == []:\n",
    "            return None\n",
    "        else:\n",
    "            return self.stack[-1]\n",
    "        \n",
    "\n",
    "        \n",
    "    def pop(self):\n",
    "        p = self.stack[-1]\n",
    "        self.stack = self.stack[:-1]\n",
    "        return p\n",
    "    \n",
    "    def push(self, a) :\n",
    "        self.stack += [a]      \n"
   ]
  },
  {
   "cell_type": "code",
   "execution_count": null,
   "metadata": {},
   "outputs": [],
   "source": [
    "# 여기에 코드를 작성해주세요."
   ]
  },
  {
   "cell_type": "code",
   "execution_count": 39,
   "metadata": {},
   "outputs": [
    {
     "name": "stdout",
     "output_type": "stream",
     "text": [
      "[1]\n"
     ]
    }
   ],
   "source": [
    "a = Stack()\n",
    "a.push(1)\n",
    "print(a.stack)"
   ]
  },
  {
   "cell_type": "code",
   "execution_count": 42,
   "metadata": {},
   "outputs": [],
   "source": [
    "a.push(2)"
   ]
  },
  {
   "cell_type": "code",
   "execution_count": 43,
   "metadata": {},
   "outputs": [
    {
     "name": "stdout",
     "output_type": "stream",
     "text": [
      "[1, 2, 2]\n"
     ]
    }
   ],
   "source": [
    "print(a.stack)"
   ]
  },
  {
   "cell_type": "code",
   "execution_count": 44,
   "metadata": {},
   "outputs": [
    {
     "data": {
      "text/plain": [
       "False"
      ]
     },
     "execution_count": 44,
     "metadata": {},
     "output_type": "execute_result"
    }
   ],
   "source": [
    "a.empty()"
   ]
  },
  {
   "cell_type": "code",
   "execution_count": 45,
   "metadata": {},
   "outputs": [
    {
     "data": {
      "text/plain": [
       "2"
      ]
     },
     "execution_count": 45,
     "metadata": {},
     "output_type": "execute_result"
    }
   ],
   "source": [
    "a.top()"
   ]
  },
  {
   "cell_type": "code",
   "execution_count": 12,
   "metadata": {},
   "outputs": [],
   "source": [
    "aa = MyList()"
   ]
  },
  {
   "cell_type": "code",
   "execution_count": 13,
   "metadata": {},
   "outputs": [],
   "source": [
    "aa.append(1)"
   ]
  },
  {
   "cell_type": "code",
   "execution_count": 14,
   "metadata": {},
   "outputs": [
    {
     "name": "stdout",
     "output_type": "stream",
     "text": [
      "[1]\n"
     ]
    }
   ],
   "source": [
    "print(aa.data)"
   ]
  },
  {
   "cell_type": "code",
   "execution_count": 15,
   "metadata": {},
   "outputs": [],
   "source": [
    "ab = MyList()"
   ]
  },
  {
   "cell_type": "code",
   "execution_count": 16,
   "metadata": {},
   "outputs": [],
   "source": [
    "ab.append(1)"
   ]
  },
  {
   "cell_type": "code",
   "execution_count": 17,
   "metadata": {},
   "outputs": [
    {
     "name": "stdout",
     "output_type": "stream",
     "text": [
      "[1]\n"
     ]
    }
   ],
   "source": [
    "print(ab.data)"
   ]
  },
  {
   "cell_type": "markdown",
   "metadata": {},
   "source": [
    "## 포켓몬 구현하기\n",
    "\n",
    "> 피카츄를 클래스-인스턴스로 구현해 봅시다. 게임을 만든다면 아래와 같이 먼저 기획을 하고 코드로 구현하게 됩니다.\n",
    "우선 아래와 같이 구현해 보고, 추가로 본인이 원하는 대로 구현 및 수정해 봅시다.\n",
    "\n",
    "모든 피카츄는 다음과 같은 속성을 갖습니다.\n",
    "* `name`: 이름\n",
    "* `level`: 레벨\n",
    "    * 레벨은 시작할 때 모두 5 입니다.\n",
    "* `hp`: 체력\n",
    "    * 체력은 `level` * 20 입니다.\n",
    "* `exp`: 경험치\n",
    "    * 상대방을 쓰러뜨리면 상대방 `level` * 15 를 획득합니다.\n",
    "    * 경험치는 `level` * 100 이 되면, 레벨이 하나 올라가고 0부터 추가 됩니다. \n",
    "\n",
    "모든 피카츄는 다음과 같은 행동(메서드)을 할 수 있습니다.\n",
    "* `bark()`: 울기. `'pikachu'` 를 출력합니다.\n",
    "* `body_attack()`: 몸통박치기. 상대방의 hp 를 내 `level` * 5 만큼 차감합니다.\n",
    "* `thousond_volt()`: 십만볼트. 상대방의 hp 를 내 `level` * 7 만큼 차감합니다."
   ]
  },
  {
   "cell_type": "code",
   "execution_count": null,
   "metadata": {},
   "outputs": [],
   "source": [
    "# 아래에 코드를 작성해주세요."
   ]
  },
  {
   "cell_type": "markdown",
   "metadata": {},
   "source": [
    "### Workshop\n",
    "> 다음 조건에 맞는 Circle 클래스를 만들어 보세요.\n",
    "\n",
    "클래스 속성\n",
    "* `pi`: 3.14\n",
    "\n",
    "인스턴스 속성 (초기화 시 필요한 값들)\n",
    "* `r`: 원의 반지름 (필수 입력)\n",
    "* `x`: x좌표 (default 0)\n",
    "* `y`: y좌표 (default 0)\n",
    "\n",
    "인스턴스 메서드\n",
    "* `area()`: 원의 넓이를 반환\n",
    "* `circumference()`: 원의 둘레를 반환\n",
    "* `center()`: 원의 중심인 (x, y) 좌표를 튜플로 반환\n",
    "* `move(x, y)`: 원의 중심인 (x, y) 좌표를 입력받은 값으로 변경하고 변경된 좌표값을 튜플로 반환"
   ]
  },
  {
   "cell_type": "code",
   "execution_count": null,
   "metadata": {},
   "outputs": [],
   "source": [
    "# 여기에 클래스를 정의하세요"
   ]
  },
  {
   "cell_type": "code",
   "execution_count": 4,
   "metadata": {},
   "outputs": [],
   "source": [
    "class Circle:\n",
    "    pi = 3.14\n",
    "    x = 0\n",
    "    y = 0\n",
    "    r = 0\n",
    "    def __init__(self, r, x, y):\n",
    "        self.r = r\n",
    "        self.x = x\n",
    "        self.y = y\n",
    "    def area(self):\n",
    "        return self.pi * self.r * self.r\n",
    "    def circumference(self):\n",
    "        return 2 * self.pi * self.r\n",
    "    def center(self):\n",
    "        return (self.x, self.y)"
   ]
  },
  {
   "cell_type": "code",
   "execution_count": 6,
   "metadata": {},
   "outputs": [],
   "source": [
    "circle = Circle(3,2,4)"
   ]
  },
  {
   "cell_type": "code",
   "execution_count": 7,
   "metadata": {},
   "outputs": [
    {
     "data": {
      "text/plain": [
       "28.259999999999998"
      ]
     },
     "execution_count": 7,
     "metadata": {},
     "output_type": "execute_result"
    }
   ],
   "source": [
    "circle.area()"
   ]
  },
  {
   "cell_type": "code",
   "execution_count": 8,
   "metadata": {},
   "outputs": [
    {
     "data": {
      "text/plain": [
       "18.84"
      ]
     },
     "execution_count": 8,
     "metadata": {},
     "output_type": "execute_result"
    }
   ],
   "source": [
    "circle.circumference()"
   ]
  }
 ],
 "metadata": {
  "kernelspec": {
   "display_name": "Python 3",
   "language": "python",
   "name": "python3"
  },
  "language_info": {
   "codemirror_mode": {
    "name": "ipython",
    "version": 3
   },
   "file_extension": ".py",
   "mimetype": "text/x-python",
   "name": "python",
   "nbconvert_exporter": "python",
   "pygments_lexer": "ipython3",
   "version": "3.7.4"
  },
  "latex_envs": {
   "LaTeX_envs_menu_present": true,
   "autoclose": false,
   "autocomplete": true,
   "bibliofile": "biblio.bib",
   "cite_by": "apalike",
   "current_citInitial": 1,
   "eqLabelWithNumbers": true,
   "eqNumInitial": 1,
   "hotkeys": {
    "equation": "Ctrl-E",
    "itemize": "Ctrl-I"
   },
   "labels_anchors": false,
   "latex_user_defs": false,
   "report_style_numbering": false,
   "user_envs_cfg": false
  },
  "toc": {
   "base_numbering": 1,
   "nav_menu": {},
   "number_sections": true,
   "sideBar": true,
   "skip_h1_title": false,
   "title_cell": "Table of Contents",
   "title_sidebar": "Contents",
   "toc_cell": false,
   "toc_position": {
    "height": "calc(100% - 180px)",
    "left": "10px",
    "top": "150px",
    "width": "206.8px"
   },
   "toc_section_display": true,
   "toc_window_display": false
  }
 },
 "nbformat": 4,
 "nbformat_minor": 2
}
